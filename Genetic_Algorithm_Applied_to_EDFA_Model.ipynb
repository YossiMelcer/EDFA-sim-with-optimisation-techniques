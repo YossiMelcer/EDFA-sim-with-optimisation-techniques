{
 "cells": [
  {
   "cell_type": "code",
   "execution_count": null,
   "metadata": {},
   "outputs": [],
   "source": [
    "import numpy as np\n",
    "from numpy import empty\n",
    "import random"
   ]
  },
  {
   "cell_type": "markdown",
   "metadata": {},
   "source": [
    "## Randomly generate individual set of parameters within specified values"
   ]
  },
  {
   "cell_type": "code",
   "execution_count": null,
   "metadata": {},
   "outputs": [],
   "source": [
    "def generate_individual():\n",
    "    \n",
    "    L = random.uniform(5, 15)\n",
    "    P = random.uniform(20e-3, 200e-3)\n",
    "    W = random.choice([980, 1480])\n",
    "    \n",
    "    individual = [L, P, W]\n",
    "    \n",
    "    return individual"
   ]
  },
  {
   "cell_type": "markdown",
   "metadata": {},
   "source": [
    "## Generate initial population"
   ]
  },
  {
   "cell_type": "code",
   "execution_count": null,
   "metadata": {},
   "outputs": [],
   "source": [
    "def generate_initial_population(size):\n",
    "    \n",
    "    pop = np.zeros([size, 3])\n",
    "    \n",
    "    for i in range(size):\n",
    "        pop[i] = generate_individual()\n",
    "        \n",
    "    return pop\n",
    "\n",
    "population = generate_population(100)\n",
    "\n",
    "range(len(population))"
   ]
  },
  {
   "cell_type": "markdown",
   "metadata": {},
   "source": [
    "## Determine fitness levels of the generation"
   ]
  },
  {
   "cell_type": "code",
   "execution_count": null,
   "metadata": {},
   "outputs": [],
   "source": [
    "def fitness_calc(population):\n",
    "    \n",
    "    solution = np.zeros([range(len(population))])\n",
    "    \n",
    "    for i in range(len(population)):\n",
    "    \n",
    "        solution[i] = ((individual[i][0]*individual[i][1]*individual[i][2])/3)\n",
    "\n",
    "    fitness_array = np.zeros([range(len(solution))])\n",
    "    \n",
    "    for i in range(len(solution)):\n",
    "    \n",
    "        fitness_array[i] = solution[i] - 485.1409107132838\n",
    "\n",
    "    return fitness_array"
   ]
  },
  {
   "cell_type": "markdown",
   "metadata": {},
   "source": [
    "## Select new mating pool based on fittest genes"
   ]
  },
  {
   "cell_type": "code",
   "execution_count": null,
   "metadata": {},
   "outputs": [],
   "source": [
    "def select_mating_pool(population, fitness, num_parents):\n",
    "    \n",
    "    parents = np.zeros([num_parents, len(population[1])])\n",
    "    \n",
    "    for parent_num in range(num_parents):\n",
    "        \n",
    "        max_fitness_i = numpy.where(fitness = numpy.min(abs(fitness)))\n",
    "        \n",
    "        max_fitness_i = max_fitness_i[0][0]\n",
    "        \n",
    "        parents[parent_num, :] = population[max_fitness_i, :]\n",
    "        \n",
    "        fitness[max_fitness_i] = 999999999\n",
    "        \n",
    "    return parents"
   ]
  },
  {
   "cell_type": "markdown",
   "metadata": {},
   "source": [
    "## Mix genes to produce offspring"
   ]
  },
  {
   "cell_type": "code",
   "execution_count": null,
   "metadata": {},
   "outputs": [],
   "source": [
    "def crossover(parents, offspring_size):\n",
    "    \n",
    "    offspring = np.zeros(offspring_size)\n",
    "                         \n",
    "    crossover_point = np.uint8(len(offspring_size[1])/2)\n",
    "                         \n",
    "    for i in range(len(offspring_size)):\n",
    "                         \n",
    "        parent1_i = parents[i]\n",
    "        parent2_i = parents[i+1]\n",
    "                         \n",
    "        offspring[i, 0:crossover_point] = parents[parent1_i, 0:crossover_point]\n",
    "                         \n",
    "        offspring[i, crossover_point:] = parents[parent2_i, crossover_point:]\n",
    "                         \n",
    "    return offspring"
   ]
  },
  {
   "cell_type": "markdown",
   "metadata": {},
   "source": [
    "## Mutate 1 gene (in this case fibre length)"
   ]
  },
  {
   "cell_type": "code",
   "execution_count": null,
   "metadata": {},
   "outputs": [],
   "source": [
    "def mutation(offspring_crossover):\n",
    "    \n",
    "    for i in range(offspring_crossover):\n",
    "        \n",
    "    random_value = np.random.uniform(-3, 3)\n",
    "    \n",
    "    offspring_crossover[i, 0] = offspring_crossover[i, 0] + random_value\n",
    "    \n",
    "    return offspring_crossover"
   ]
  },
  {
   "cell_type": "markdown",
   "metadata": {},
   "source": [
    "## Wrapper function "
   ]
  },
  {
   "cell_type": "code",
   "execution_count": null,
   "metadata": {},
   "outputs": [],
   "source": [
    "def ga_wrapper(num_generations, num_parents_mating, pop_size):\n",
    "    \n",
    "    population = generate_initial_population(pop_size) \n",
    "    \n",
    "    generations = np.zeros(range(len(num_generations))\n",
    "    \n",
    "    for generation in range (num_generations):\n",
    "        \n",
    "        fitness_array = fitness_calc(population)\n",
    "        \n",
    "        parents = select_mating_pool(new_poulation, fitness_array, num_parents_mating)\n",
    "        \n",
    "        offspring_crossover = crossover(parents, offspring_size=(len(pop_size)-len(parents))\n",
    "                                        \n",
    "        offspring_mutation = mutation(offspring_crossover)                    \n",
    "                                        \n",
    "        generations[generation] = zip(population, fitness_array)\n",
    "                                        \n",
    "        population[0:len(parents), :] = parents\n",
    "        population[len(parents):, :] = offspring_mutation\n",
    "                                        \n",
    "    return generations"
   ]
  },
  {
   "cell_type": "code",
   "execution_count": null,
   "metadata": {},
   "outputs": [],
   "source": [
    "def print_results(generations)\n",
    "\n",
    "    for i in range(len(generations)):\n",
    "        print(\"Generation {}\".format(i))\n",
    "        print()\n",
    "        print(\"Parameters:\")\n",
    "        print()\n",
    "        print(generations[i].population)\n",
    "        print(\"Fitness Values:\")\n",
    "        print()\n",
    "        print(generations[i].fitness_array)\n",
    "        print()\n",
    "        print(\"Best result: {}\".format(min(abs(generations[i].fitness_array))))"
   ]
  },
  {
   "cell_type": "markdown",
   "metadata": {},
   "source": [
    "# Ignore everything below"
   ]
  },
  {
   "cell_type": "code",
   "execution_count": 78,
   "metadata": {
    "collapsed": true
   },
   "outputs": [
    {
     "data": {
      "text/plain": [
       "array([[1332.46626224],\n",
       "       [ 973.63287382],\n",
       "       [  79.36291052],\n",
       "       [ 390.99796817],\n",
       "       [1140.55085629],\n",
       "       [ 320.68851849],\n",
       "       [ 306.44094028],\n",
       "       [ 638.76865307],\n",
       "       [ 151.69384099],\n",
       "       [ 290.57775422],\n",
       "       [ 132.444243  ],\n",
       "       [ 330.28261131],\n",
       "       [ 438.99325034],\n",
       "       [ 446.7887986 ],\n",
       "       [ 675.2130767 ],\n",
       "       [ 484.50327072],\n",
       "       [ 384.36988243],\n",
       "       [ 422.58849295],\n",
       "       [ 787.86931186],\n",
       "       [ 596.76710286],\n",
       "       [ 120.0994219 ],\n",
       "       [ 132.14826313],\n",
       "       [1229.70210073],\n",
       "       [ 748.67401561],\n",
       "       [ 331.21427149],\n",
       "       [ 247.36161305],\n",
       "       [ 418.05680648],\n",
       "       [ 811.18462651],\n",
       "       [ 336.94947546],\n",
       "       [ 669.42895448],\n",
       "       [ 170.63452128],\n",
       "       [ 944.46167731],\n",
       "       [ 355.46424687],\n",
       "       [ 483.61744084],\n",
       "       [1125.86333891],\n",
       "       [ 101.64283309],\n",
       "       [ 271.87839655],\n",
       "       [ 428.54073696],\n",
       "       [1023.34843653],\n",
       "       [ 717.92611794],\n",
       "       [  98.41624957],\n",
       "       [ 833.39225552],\n",
       "       [ 276.61456899],\n",
       "       [ 443.39221315],\n",
       "       [ 368.83360775],\n",
       "       [1100.32002611],\n",
       "       [ 147.12847023],\n",
       "       [ 464.85577801],\n",
       "       [ 395.48485243],\n",
       "       [ 326.94706243],\n",
       "       [ 421.81181549],\n",
       "       [ 488.9929138 ],\n",
       "       [ 386.79237233],\n",
       "       [ 780.64020567],\n",
       "       [ 792.41337394],\n",
       "       [ 427.74273033],\n",
       "       [ 419.03240837],\n",
       "       [ 377.49260715],\n",
       "       [ 291.29855702],\n",
       "       [ 719.99148734],\n",
       "       [ 137.11470865],\n",
       "       [ 472.5418711 ],\n",
       "       [ 671.39848837],\n",
       "       [ 254.70073569],\n",
       "       [ 285.22043151],\n",
       "       [ 192.12716482],\n",
       "       [ 263.72037   ],\n",
       "       [1046.6572606 ],\n",
       "       [ 236.03879481],\n",
       "       [ 366.04941383],\n",
       "       [ 177.15380569],\n",
       "       [ 522.1955119 ],\n",
       "       [ 392.03150658],\n",
       "       [ 477.20864062],\n",
       "       [ 127.96245515],\n",
       "       [ 682.62105796],\n",
       "       [ 809.40888342],\n",
       "       [ 314.79899627],\n",
       "       [ 673.4274337 ],\n",
       "       [ 144.98345676],\n",
       "       [ 625.39583604],\n",
       "       [ 120.16711476],\n",
       "       [1283.53524343],\n",
       "       [ 803.87432472],\n",
       "       [ 626.71508098],\n",
       "       [ 435.24427664],\n",
       "       [ 585.23749667],\n",
       "       [  41.76678234],\n",
       "       [ 533.41148015],\n",
       "       [ 430.49791923],\n",
       "       [ 434.65419907],\n",
       "       [ 252.3140589 ],\n",
       "       [ 688.39226772],\n",
       "       [ 150.28021966],\n",
       "       [ 341.76718533],\n",
       "       [ 377.4029336 ],\n",
       "       [ 570.46199078],\n",
       "       [ 314.38486004],\n",
       "       [ 135.06137549],\n",
       "       [ 961.37396876]])"
      ]
     },
     "execution_count": 78,
     "metadata": {},
     "output_type": "execute_result"
    }
   ],
   "source": [
    "solution = np.zeros([100, 1])\n",
    "\n",
    "for i in range(len(population)):\n",
    "    solution[i] = ((population[i][0]*population[i][1]*population[i][2])/3)\n",
    "    \n",
    "solution"
   ]
  },
  {
   "cell_type": "code",
   "execution_count": 73,
   "metadata": {},
   "outputs": [
    {
     "data": {
      "text/plain": [
       "485.1409107132838"
      ]
     },
     "execution_count": 73,
     "metadata": {},
     "output_type": "execute_result"
    }
   ],
   "source": [
    "np.mean(solution)"
   ]
  },
  {
   "cell_type": "code",
   "execution_count": 82,
   "metadata": {},
   "outputs": [
    {
     "data": {
      "text/plain": [
       "array([0.63764])"
      ]
     },
     "execution_count": 82,
     "metadata": {},
     "output_type": "execute_result"
    }
   ],
   "source": [
    "a = fitness(population)\n",
    "min(abs(a))"
   ]
  },
  {
   "cell_type": "code",
   "execution_count": 89,
   "metadata": {},
   "outputs": [
    {
     "data": {
      "text/plain": [
       "array([[1.05475334e-311, 9.58487353e-322, 0.00000000e+000],\n",
       "       [0.00000000e+000, 0.00000000e+000, 5.02034658e+175],\n",
       "       [3.79823469e+175, 1.16391660e+165, 1.79584374e-052],\n",
       "       [4.08594369e+179, 5.01163111e+217, 5.49419094e-143],\n",
       "       [9.80058441e+252, 1.30304358e-142, 2.14027814e+161],\n",
       "       [5.04621383e+180, 4.50618615e-144, 7.79952704e-143],\n",
       "       [6.01352666e-067, 2.62967465e+179, 8.70264083e-071],\n",
       "       [3.79100468e+179, 1.41529403e+161, 9.16651763e-072],\n",
       "       [4.31217112e+097, 1.14482968e-071, 3.08395576e+126],\n",
       "       [9.30350598e+199, 3.67152475e-062, 1.58268989e-319]])"
      ]
     },
     "execution_count": 89,
     "metadata": {},
     "output_type": "execute_result"
    }
   ],
   "source": [
    "parents = np.empty((10, 3))\n",
    "parents"
   ]
  },
  {
   "cell_type": "code",
   "execution_count": 92,
   "metadata": {},
   "outputs": [
    {
     "data": {
      "text/plain": [
       "3"
      ]
     },
     "execution_count": 92,
     "metadata": {},
     "output_type": "execute_result"
    }
   ],
   "source": [
    "len(population[1])"
   ]
  },
  {
   "cell_type": "code",
   "execution_count": 104,
   "metadata": {},
   "outputs": [
    {
     "ename": "TypeError",
     "evalue": "unsupported operand type(s) for %: 'int' and 'tuple'",
     "output_type": "error",
     "traceback": [
      "\u001b[1;31m---------------------------------------------------------------------------\u001b[0m",
      "\u001b[1;31mTypeError\u001b[0m                                 Traceback (most recent call last)",
      "\u001b[1;32m<ipython-input-104-48e4321d9efd>\u001b[0m in \u001b[0;36m<module>\u001b[1;34m\u001b[0m\n\u001b[0;32m      5\u001b[0m \u001b[1;33m\u001b[0m\u001b[0m\n\u001b[0;32m      6\u001b[0m \u001b[1;32mfor\u001b[0m \u001b[0mi\u001b[0m \u001b[1;32min\u001b[0m \u001b[0mrange\u001b[0m\u001b[1;33m(\u001b[0m\u001b[0mlen\u001b[0m\u001b[1;33m(\u001b[0m\u001b[0mparents\u001b[0m\u001b[1;33m)\u001b[0m\u001b[1;33m)\u001b[0m\u001b[1;33m:\u001b[0m\u001b[1;33m\u001b[0m\u001b[1;33m\u001b[0m\u001b[0m\n\u001b[1;32m----> 7\u001b[1;33m     \u001b[0mprint\u001b[0m\u001b[1;33m(\u001b[0m\u001b[0mi\u001b[0m\u001b[1;33m%\u001b[0m\u001b[0mparents\u001b[0m\u001b[1;33m)\u001b[0m\u001b[1;33m\u001b[0m\u001b[1;33m\u001b[0m\u001b[0m\n\u001b[0m",
      "\u001b[1;31mTypeError\u001b[0m: unsupported operand type(s) for %: 'int' and 'tuple'"
     ]
    }
   ],
   "source": [
    "parents = (1, 10, 1)\n",
    "\n",
    "# parent_num = 10\n",
    "# parents[parent_num, :]\n",
    "\n",
    "for i in range(len(parents)):\n",
    "    print(i%parents)"
   ]
  },
  {
   "cell_type": "code",
   "execution_count": 103,
   "metadata": {},
   "outputs": [
    {
     "data": {
      "text/plain": [
       "array([0., 0., 0., 0.])"
      ]
     },
     "execution_count": 103,
     "metadata": {},
     "output_type": "execute_result"
    }
   ],
   "source": [
    "offspring_size = 4\n",
    "\n",
    "offspring = np.zeros(offspring_size)\n",
    "\n",
    "offspring"
   ]
  },
  {
   "cell_type": "code",
   "execution_count": 113,
   "metadata": {},
   "outputs": [
    {
     "data": {
      "text/plain": [
       "array([ 2,  3,  4,  5,  6,  7,  8,  9, 10])"
      ]
     },
     "execution_count": 113,
     "metadata": {},
     "output_type": "execute_result"
    }
   ],
   "source": [
    "generations = np.arange(2, 11, 1)\n",
    "generations"
   ]
  },
  {
   "cell_type": "code",
   "execution_count": 117,
   "metadata": {
    "collapsed": true
   },
   "outputs": [
    {
     "name": "stdout",
     "output_type": "stream",
     "text": [
      "Generation 1\n",
      "\n",
      "i\n",
      "Generation 2\n",
      "\n",
      "i\n",
      "Generation 3\n",
      "\n",
      "i\n",
      "Generation 4\n",
      "\n",
      "i\n",
      "Generation 5\n",
      "\n",
      "i\n",
      "Generation 6\n",
      "\n",
      "i\n",
      "Generation 7\n",
      "\n",
      "i\n",
      "Generation 8\n",
      "\n",
      "i\n",
      "Generation 9\n",
      "\n",
      "i\n"
     ]
    }
   ],
   "source": [
    "for i in range(len(generations)):\n",
    "    print(\"Generation {}\".format(i+1))\n",
    "    print()\n",
    "    print('i')"
   ]
  },
  {
   "cell_type": "code",
   "execution_count": null,
   "metadata": {},
   "outputs": [],
   "source": []
  }
 ],
 "metadata": {
  "kernelspec": {
   "display_name": "Python 3",
   "language": "python",
   "name": "python3"
  },
  "language_info": {
   "codemirror_mode": {
    "name": "ipython",
    "version": 3
   },
   "file_extension": ".py",
   "mimetype": "text/x-python",
   "name": "python",
   "nbconvert_exporter": "python",
   "pygments_lexer": "ipython3",
   "version": "3.7.3"
  }
 },
 "nbformat": 4,
 "nbformat_minor": 2
}
